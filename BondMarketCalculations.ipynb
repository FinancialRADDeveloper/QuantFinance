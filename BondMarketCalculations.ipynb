{
 "cells": [
  {
   "cell_type": "code",
   "execution_count": null,
   "metadata": {},
   "outputs": [],
   "source": [
    "from IPython.core.interactiveshell import InteractiveShell\n",
    "InteractiveShell.ast_node_interactivity = \"all\""
   ]
  },
  {
   "cell_type": "code",
   "execution_count": null,
   "metadata": {},
   "outputs": [],
   "source": [
    "def calculate_duration(coupon, time_to_maturity, print_internal_calcs=False):\n",
    "\n",
    "    cashflows = []\n",
    "    weighted_cashflows = []\n",
    "    \n",
    "    for period in range(1, time_to_maturity):\n",
    "        cashflows.append(coupon)\n",
    "        weighted_cashflows.append(coupon * period)\n",
    "        \n",
    "    cashflows.append((100 + coupon))\n",
    "    weighted_cashflows.append(((100 + coupon) * time_to_maturity))\n",
    "    \n",
    "    if print_internal_calcs:\n",
    "        print(weighted_cashflows)\n",
    "        print(cashflows)\n",
    "        \n",
    "        print(sum(weighted_cashflows))\n",
    "        print(sum(cashflows))\n",
    "    \n",
    "    return sum(weighted_cashflows)/sum(cashflows)\n",
    "    "
   ]
  },
  {
   "cell_type": "code",
   "execution_count": null,
   "metadata": {},
   "outputs": [],
   "source": [
    "display(calculate_duration(10, 7))\n",
    "\n",
    "display(calculate_duration(5, 10, False))\n",
    "\n",
    "display(calculate_duration(10, 5, False))"
   ]
  },
  {
   "cell_type": "markdown",
   "metadata": {},
   "source": [
    "Macualay duration\n",
    "\n",
    "$$[tC / (1+y)^t] + [(nM / (1+y)^n]  / P$$\n",
    "\n",
    "where:\n",
    "\n",
    "t = period in which the coupon is received\n",
    "C = periodic (usually semiannual) coupon payment (in $)\n",
    "y = the periodic yield to maturity or required yield\n",
    "n = number periods\n",
    "M = maturity value (in $)\n",
    "PV = market price of bond (in $)"
   ]
  },
  {
   "cell_type": "code",
   "execution_count": null,
   "metadata": {},
   "outputs": [],
   "source": []
  },
  {
   "cell_type": "code",
   "execution_count": null,
   "metadata": {},
   "outputs": [],
   "source": []
  },
  {
   "cell_type": "markdown",
   "metadata": {},
   "source": [
    "Yield\n",
    "\n",
    "Bond A \n",
    "Coupon 5% \n",
    "Price 101\n",
    "\n",
    "Bond B\n",
    "Coup0n 4.75\n",
    "Price 95"
   ]
  },
  {
   "cell_type": "code",
   "execution_count": null,
   "metadata": {},
   "outputs": [],
   "source": [
    "# Bond A\n",
    "\n",
    "def face_value_purchased(investment_amount, price, round_dp=0):\n",
    "    return round(investment_amount / price, round_dp)\n",
    "\n",
    "def annual_coupon_amount(face_value_purchased, annual_coupon_percentage, round_dp=0):\n",
    "    return round(face_value_purchased * annual_coupon_percentage, round_dp)\n",
    "\n",
    "\n"
   ]
  },
  {
   "cell_type": "code",
   "execution_count": null,
   "metadata": {},
   "outputs": [],
   "source": [
    "# Bond A\n",
    "\n",
    "fvp = face_value_purchased(10_000_000, 1.01)\n",
    "display(fvp)\n",
    "aca = annual_coupon_amount(fvp, 0.05)\n",
    "display(aca)\n",
    "\n",
    "# Bond B\n",
    "fvp = face_value_purchased(10_000_000, 0.95)\n",
    "display(fvp)\n",
    "aca = annual_coupon_amount(fvp, 0.0475)\n",
    "display(aca)"
   ]
  },
  {
   "cell_type": "markdown",
   "metadata": {},
   "source": [
    "Price = C1 / (1 + YTM / m)^1 + C2 / (1 + YTM / m)^2 + ... + Cn / (1 + YTM / m)^n + 1 / (1 + YTM / m)^n\n",
    "\n",
    "C = Coupon / payment for period 'x' expressed as percentage of par\n",
    "YTM = Annualised periodic discount rate\n",
    "m = compounding freq\n",
    "n = years \n",
    "\n"
   ]
  },
  {
   "cell_type": "code",
   "execution_count": null,
   "metadata": {},
   "outputs": [],
   "source": [
    "# Yield to maturity example \n",
    "\n",
    "def bond_yield_to_maturity(CPN, YTM, m, n):\n",
    "    \n",
    "    x = []\n",
    "    \n",
    "    for period in range(1, int(n)+1):\n",
    "        print(period)\n",
    "        x.append(CPN/(1 + (YTM/m)**int(period)))\n",
    "        \n",
    "    x.append((1 /(1 + (YTM)**n)))\n",
    "\n",
    "    display(x)\n",
    "    \n",
    "    display('Price = {}'.format(sum(x)))\n",
    "        \n",
    "        \n",
    "bond_yield_to_maturity(0.05, 0.0477, 1.0, 5.0)"
   ]
  },
  {
   "cell_type": "code",
   "execution_count": null,
   "metadata": {},
   "outputs": [],
   "source": [
    "0.05/(1 + ((0.0477/1)**1))"
   ]
  },
  {
   "cell_type": "markdown",
   "metadata": {},
   "source": [
    "NetPresentValue\n",
    "\n",
    "-CF0 + Sig t=1 to N CFi/(1 + IRR) t\n",
    "\n",
    "CF0 = Cashflow at time 0 (initial outlay ) \n",
    "CFt - Expected cashflow at time t \n",
    "N = Life of the invetsment \n",
    "r = Discount rate\n"
   ]
  },
  {
   "cell_type": "code",
   "execution_count": null,
   "metadata": {},
   "outputs": [],
   "source": [
    "def get_NPV(initial_outlay, cashflows, r, noisy=False):\n",
    "    \n",
    "    npv = -initial_outlay\n",
    "    \n",
    "    if noisy:\n",
    "        print(-initial_outlay)\n",
    "    \n",
    "    for period, cashflow in enumerate(cashflows):\n",
    "    \n",
    "    \n",
    "        if noisy: print(cashflow/((1+r)**(period+1)))\n",
    "        npv += cashflow/((1+r)**(period+1))\n",
    "        \n",
    "    return npv\n",
    "\n",
    "\n",
    "display('NPV: {}'.format(get_NPV(1_200_000, [100_000, 100_000, 100_000, 1_100_000], 0.04, True)))"
   ]
  },
  {
   "cell_type": "code",
   "execution_count": null,
   "metadata": {},
   "outputs": [],
   "source": [
    "display('NPV: {}'.format(get_NPV(100_000, [3000, 3000, 3000, 3000, 103_000], 0.025, True)))\n",
    "display('NPV: {}'.format(get_NPV(100_000, [1000, 2000, 3000, 4000, 105_000], 0.025, True)))\n",
    "display('NPV: {}'.format(get_NPV(100_000, [0, 0, 0, 0, 113_000], 0.025, True)))"
   ]
  },
  {
   "cell_type": "code",
   "execution_count": null,
   "metadata": {},
   "outputs": [],
   "source": [
    "display('NPV: {}'.format(get_NPV(4_000_000, [1_500_000, 1_500_000, 1_500_000], 0.06, True)))"
   ]
  },
  {
   "cell_type": "code",
   "execution_count": null,
   "metadata": {},
   "outputs": [],
   "source": [
    "### IRR\n",
    "\n",
    "import numpy as np\n",
    "\n",
    "def calculate_irr(cashflows, round_dp=4):\n",
    "    return round(np.irr(cashflows), round_dp)\n",
    "\n",
    "\n",
    "display(calculate_irr([-100, 20, 30, 40, 50]))\n",
    "\n",
    "display(calculate_irr([-100_000, 2000, 3000, 104_000]))\n",
    "\n",
    "display(calculate_irr([-900_000, 0, 0, 1_000_000], 6))"
   ]
  },
  {
   "cell_type": "code",
   "execution_count": null,
   "metadata": {},
   "outputs": [],
   "source": [
    "display('NPV: {}'.format(get_NPV(10_000, [3000, 4000, 5000], 0.05, False)))\n",
    "display('NPV: {}'.format(get_NPV(15_000, [6000, 6000, 6000], 0.05, False)))\n",
    "\n",
    "\n",
    "display(get_NPV(10_000, [3000, 4000, 5000], 0.05, False)+get_NPV(15_000, [6000, 6000, 6000], 0.05, False))\n",
    "\n",
    "display(calculate_irr([-25_000, 0, 0, 0, 30_000]))\n",
    "display(calculate_irr([-25_000, 1250, 1250, 1250, 26_250]))\n",
    "display(calculate_irr([-25_000, 500, 1000, 1500, 27_000]))\n",
    "\n",
    "\n"
   ]
  },
  {
   "cell_type": "code",
   "execution_count": null,
   "metadata": {},
   "outputs": [],
   "source": [
    "display('NPV: {}'.format(get_NPV(30_000, [36000], 0.17, False)))\n",
    "display(calculate_irr([-30_000, 36_000]))\n",
    "\n",
    "display('NPV: {}'.format(get_NPV(70_000, [77000], 0.08, False)))\n",
    "display(calculate_irr([-70_000, 77_000]))"
   ]
  },
  {
   "cell_type": "code",
   "execution_count": null,
   "metadata": {},
   "outputs": [],
   "source": [
    "display(calculate_irr([-970_000, 50_000, 50_000, 50_000, 50_000, 1_050_000]))"
   ]
  },
  {
   "cell_type": "code",
   "execution_count": 103,
   "metadata": {},
   "outputs": [
    {
     "data": {
      "text/plain": [
       "67.684"
      ]
     },
     "metadata": {},
     "output_type": "display_data"
    },
    {
     "data": {
      "text/plain": [
       "66.408"
      ]
     },
     "metadata": {},
     "output_type": "display_data"
    },
    {
     "data": {
      "text/plain": [
       "119.304"
      ]
     },
     "metadata": {},
     "output_type": "display_data"
    },
    {
     "data": {
      "text/plain": [
       "117.165"
      ]
     },
     "metadata": {},
     "output_type": "display_data"
    }
   ],
   "source": [
    "def get_bond_price(coupon, YTM, coupon_periods_per_year, years, round_dp=3):\n",
    "    \n",
    "    price = 0\n",
    "    \n",
    "    for period in range(1, years+1):\n",
    "        price += coupon / ((1 + YTM/coupon_periods_per_year))**period\n",
    "        \n",
    "    price += 1/((1 + YTM/coupon_periods_per_year))**period\n",
    "    \n",
    "    return round(price * 100, round_dp)\n",
    "\n",
    "\n",
    "display(get_bond_price(0, 0.05, 1, 8))\n",
    "display(get_bond_price(0, 0.0525, 1, 8))\n",
    "\n",
    "display(get_bond_price(0.075, 0.05, 1, 10))\n",
    "display(get_bond_price(0.075, 0.0525, 1, 10))\n",
    "        "
   ]
  },
  {
   "cell_type": "markdown",
   "metadata": {},
   "source": [
    "Macaulay Duration"
   ]
  },
  {
   "cell_type": "code",
   "execution_count": 126,
   "metadata": {},
   "outputs": [
    {
     "data": {
      "text/plain": [
       "[1, 2, 3, 4, 5, 6, 7, 8, 9, 10]"
      ]
     },
     "metadata": {},
     "output_type": "display_data"
    },
    {
     "data": {
      "text/plain": [
       "[0.04, 0.04, 0.04, 0.04, 0.04, 0.04, 0.04, 0.04, 0.04, 1.04]"
      ]
     },
     "metadata": {},
     "output_type": "display_data"
    },
    {
     "data": {
      "text/html": [
       "<div>\n",
       "<style scoped>\n",
       "    .dataframe tbody tr th:only-of-type {\n",
       "        vertical-align: middle;\n",
       "    }\n",
       "\n",
       "    .dataframe tbody tr th {\n",
       "        vertical-align: top;\n",
       "    }\n",
       "\n",
       "    .dataframe thead th {\n",
       "        text-align: right;\n",
       "    }\n",
       "</style>\n",
       "<table border=\"1\" class=\"dataframe\">\n",
       "  <thead>\n",
       "    <tr style=\"text-align: right;\">\n",
       "      <th></th>\n",
       "      <th>year</th>\n",
       "      <th>cashflow</th>\n",
       "    </tr>\n",
       "  </thead>\n",
       "  <tbody>\n",
       "    <tr>\n",
       "      <th>0</th>\n",
       "      <td>1</td>\n",
       "      <td>0.04</td>\n",
       "    </tr>\n",
       "    <tr>\n",
       "      <th>1</th>\n",
       "      <td>2</td>\n",
       "      <td>0.04</td>\n",
       "    </tr>\n",
       "    <tr>\n",
       "      <th>2</th>\n",
       "      <td>3</td>\n",
       "      <td>0.04</td>\n",
       "    </tr>\n",
       "    <tr>\n",
       "      <th>3</th>\n",
       "      <td>4</td>\n",
       "      <td>0.04</td>\n",
       "    </tr>\n",
       "    <tr>\n",
       "      <th>4</th>\n",
       "      <td>5</td>\n",
       "      <td>0.04</td>\n",
       "    </tr>\n",
       "    <tr>\n",
       "      <th>5</th>\n",
       "      <td>6</td>\n",
       "      <td>0.04</td>\n",
       "    </tr>\n",
       "    <tr>\n",
       "      <th>6</th>\n",
       "      <td>7</td>\n",
       "      <td>0.04</td>\n",
       "    </tr>\n",
       "    <tr>\n",
       "      <th>7</th>\n",
       "      <td>8</td>\n",
       "      <td>0.04</td>\n",
       "    </tr>\n",
       "    <tr>\n",
       "      <th>8</th>\n",
       "      <td>9</td>\n",
       "      <td>0.04</td>\n",
       "    </tr>\n",
       "    <tr>\n",
       "      <th>9</th>\n",
       "      <td>10</td>\n",
       "      <td>1.04</td>\n",
       "    </tr>\n",
       "  </tbody>\n",
       "</table>\n",
       "</div>"
      ],
      "text/plain": [
       "   year  cashflow\n",
       "0     1      0.04\n",
       "1     2      0.04\n",
       "2     3      0.04\n",
       "3     4      0.04\n",
       "4     5      0.04\n",
       "5     6      0.04\n",
       "6     7      0.04\n",
       "7     8      0.04\n",
       "8     9      0.04\n",
       "9    10      1.04"
      ]
     },
     "metadata": {},
     "output_type": "display_data"
    }
   ],
   "source": [
    "def macaulay_duration(maturity: int, coupon: float, YTM: float):\n",
    "    pass\n",
    "\n",
    "\n",
    "\n",
    "def get_cashflow_pv(cashflows_df):\n",
    "    pass\n",
    "    \n",
    "import pandas as pd\n",
    "    \n",
    "years = list(range(1, 11))\n",
    "display(years)\n",
    "\n",
    "cashflows = [0.04] * len(years)\n",
    "cashflows[len(years)-1] +=1\n",
    "\n",
    "x = list(zip(years, cashflows))\n",
    "\n",
    "display(cashflows)\n",
    "    \n",
    "cashflows_df = pd.DataFrame(x, columns=['year', 'cashflow'])\n",
    "\n",
    "display(cashflows_df)\n",
    "\n",
    "#TODO: We need to apply a formula to each row of the DF to get the PV of these cashflows. \n",
    "\n",
    "# PV = cashflow / (1 + YTM)**year\n",
    "\n",
    "\n",
    "\n",
    "# call out to a function \n",
    "df = df.apply(lambda row : replace(row)) "
   ]
  }
 ],
 "metadata": {
  "kernelspec": {
   "display_name": "Python 3",
   "language": "python",
   "name": "python3"
  },
  "language_info": {
   "codemirror_mode": {
    "name": "ipython",
    "version": 3
   },
   "file_extension": ".py",
   "mimetype": "text/x-python",
   "name": "python",
   "nbconvert_exporter": "python",
   "pygments_lexer": "ipython3",
   "version": "3.7.3"
  }
 },
 "nbformat": 4,
 "nbformat_minor": 4
}
