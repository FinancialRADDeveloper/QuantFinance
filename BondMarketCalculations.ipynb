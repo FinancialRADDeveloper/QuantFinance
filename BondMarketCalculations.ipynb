{
 "cells": [
  {
   "cell_type": "code",
   "execution_count": 30,
   "metadata": {},
   "outputs": [],
   "source": [
    "def calculate_duration(coupon, time_to_maturity, print_internal_calcs=False):\n",
    "\n",
    "    cashflows = []\n",
    "    weighted_cashflows = []\n",
    "    \n",
    "    for period in range(1, time_to_maturity):\n",
    "        cashflows.append(coupon)\n",
    "        weighted_cashflows.append(coupon * period)\n",
    "        \n",
    "    cashflows.append((100 + coupon))\n",
    "    weighted_cashflows.append(((100 + coupon) * time_to_maturity))\n",
    "    \n",
    "    if print_internal_calcs:\n",
    "        print(cashflows)\n",
    "        print(sum(cashflows))\n",
    "        print(sum(weighted_cashflows))\n",
    "    \n",
    "    return sum(weighted_cashflows)/sum(cashflows)\n",
    "    "
   ]
  },
  {
   "cell_type": "code",
   "execution_count": 31,
   "metadata": {},
   "outputs": [
    {
     "data": {
      "text/plain": [
       "5.764705882352941"
      ]
     },
     "metadata": {},
     "output_type": "display_data"
    },
    {
     "data": {
      "text/plain": [
       "8.5"
      ]
     },
     "metadata": {},
     "output_type": "display_data"
    },
    {
     "data": {
      "text/plain": [
       "4.333333333333333"
      ]
     },
     "metadata": {},
     "output_type": "display_data"
    }
   ],
   "source": [
    "display(calculate_duration(10, 7))\n",
    "\n",
    "display(calculate_duration(5, 10))\n",
    "\n",
    "display(calculate_duration(10, 5))"
   ]
  }
 ],
 "metadata": {
  "kernelspec": {
   "display_name": "Python 3",
   "language": "python",
   "name": "python3"
  },
  "language_info": {
   "codemirror_mode": {
    "name": "ipython",
    "version": 3
   },
   "file_extension": ".py",
   "mimetype": "text/x-python",
   "name": "python",
   "nbconvert_exporter": "python",
   "pygments_lexer": "ipython3",
   "version": "3.7.3"
  }
 },
 "nbformat": 4,
 "nbformat_minor": 2
}
